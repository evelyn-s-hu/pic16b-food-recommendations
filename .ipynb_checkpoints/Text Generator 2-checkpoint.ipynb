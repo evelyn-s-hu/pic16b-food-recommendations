{
 "cells": [
  {
   "cell_type": "code",
   "execution_count": 39,
   "id": "7e855956",
   "metadata": {},
   "outputs": [],
   "source": [
    "import tensorflow as tf\n",
    "import matplotlib.pyplot as plt\n",
    "import numpy as np\n",
    "import json\n",
    "import pandas as pd\n",
    "import tensorflow_text as text\n",
    "import tensorflow_hub as hub\n",
    "from tensorflow.keras.layers.experimental import preprocessing\n",
    "from tensorflow.keras import layers\n",
    "\n",
    "\n",
    "import platform\n",
    "import time\n",
    "import pathlib\n",
    "import os"
   ]
  },
  {
   "cell_type": "code",
   "execution_count": 10,
   "id": "7cf79e27",
   "metadata": {},
   "outputs": [],
   "source": [
    "recipes=pd.read_csv('newresults.csv')"
   ]
  },
  {
   "cell_type": "code",
   "execution_count": 11,
   "id": "085c55f6",
   "metadata": {},
   "outputs": [
    {
     "data": {
      "text/html": [
       "<div>\n",
       "<style scoped>\n",
       "    .dataframe tbody tr th:only-of-type {\n",
       "        vertical-align: middle;\n",
       "    }\n",
       "\n",
       "    .dataframe tbody tr th {\n",
       "        vertical-align: top;\n",
       "    }\n",
       "\n",
       "    .dataframe thead th {\n",
       "        text-align: right;\n",
       "    }\n",
       "</style>\n",
       "<table border=\"1\" class=\"dataframe\">\n",
       "  <thead>\n",
       "    <tr style=\"text-align: right;\">\n",
       "      <th></th>\n",
       "      <th>title</th>\n",
       "      <th>ingredients</th>\n",
       "      <th>recipe</th>\n",
       "      <th>category</th>\n",
       "    </tr>\n",
       "  </thead>\n",
       "  <tbody>\n",
       "    <tr>\n",
       "      <th>0</th>\n",
       "      <td>Traditional Osso Buco</td>\n",
       "      <td>2 pounds veal shanks, cut into short lengths ,...</td>\n",
       "      <td>Dust the veal shanks lightly with flour. Melt ...</td>\n",
       "      <td>Main Dishes</td>\n",
       "    </tr>\n",
       "    <tr>\n",
       "      <th>1</th>\n",
       "      <td>Italian Sausage Soup with Tortellini</td>\n",
       "      <td>1 pound sweet Italian sausage, casings removed...</td>\n",
       "      <td>In a 5-quart Dutch oven, brown sausage. Remove...</td>\n",
       "      <td>Vegetable Soup Recipes</td>\n",
       "    </tr>\n",
       "    <tr>\n",
       "      <th>2</th>\n",
       "      <td>Italian Sausage, Peppers, and Onions</td>\n",
       "      <td>6 (4 ounce) links sweet Italian sausage ,2 tab...</td>\n",
       "      <td>Place the sausage in a large skillet over medi...</td>\n",
       "      <td>Sausage</td>\n",
       "    </tr>\n",
       "    <tr>\n",
       "      <th>3</th>\n",
       "      <td>Tender Italian Baked Chicken</td>\n",
       "      <td>¾ cup mayonnaise ,½ cup grated Parmesan cheese...</td>\n",
       "      <td>Preheat oven to 425 degrees F (220 degrees C)....</td>\n",
       "      <td>Italian</td>\n",
       "    </tr>\n",
       "    <tr>\n",
       "      <th>4</th>\n",
       "      <td>Easy Pizza Sauce I</td>\n",
       "      <td>1 (6 ounce) can tomato paste ,1 ½ cups water ,...</td>\n",
       "      <td>Mix together the tomato paste, water, and oliv...</td>\n",
       "      <td>Pizza Sauce Recipes</td>\n",
       "    </tr>\n",
       "    <tr>\n",
       "      <th>...</th>\n",
       "      <td>...</td>\n",
       "      <td>...</td>\n",
       "      <td>...</td>\n",
       "      <td>...</td>\n",
       "    </tr>\n",
       "    <tr>\n",
       "      <th>10806</th>\n",
       "      <td>Vegetarian Pad Thai</td>\n",
       "      <td>1 (6.75 ounce) package thin rice noodles ,2 ta...</td>\n",
       "      <td>Place noodles in a heatproof bowl and cover wi...</td>\n",
       "      <td>Thai</td>\n",
       "    </tr>\n",
       "    <tr>\n",
       "      <th>10807</th>\n",
       "      <td>Quick and Easy Thai Style Coleslaw</td>\n",
       "      <td>1 (16 ounce) package shredded coleslaw mix ,¼ ...</td>\n",
       "      <td>Pour the coleslaw mix into a large bowl. Pour ...</td>\n",
       "      <td>No Mayo</td>\n",
       "    </tr>\n",
       "    <tr>\n",
       "      <th>10808</th>\n",
       "      <td>Sukhothai Pad Thai</td>\n",
       "      <td>½ cup white sugar ,½ cup distilled white vineg...</td>\n",
       "      <td>To prepare Pad Thai sauce: In a medium saucepa...</td>\n",
       "      <td>Thai</td>\n",
       "    </tr>\n",
       "    <tr>\n",
       "      <th>10809</th>\n",
       "      <td>Slow Cook Thai Chicken</td>\n",
       "      <td>6 skinless, boneless chicken breast halves - c...</td>\n",
       "      <td>Place the chicken breast strips, bell pepper a...</td>\n",
       "      <td>Thai</td>\n",
       "    </tr>\n",
       "    <tr>\n",
       "      <th>10810</th>\n",
       "      <td>Thai Barbeque Marinade</td>\n",
       "      <td>3 tablespoons fish sauce ,2 tablespoons rice w...</td>\n",
       "      <td>Whisk together the fish sauce, rice wine, sesa...</td>\n",
       "      <td>Marinade Recipes</td>\n",
       "    </tr>\n",
       "  </tbody>\n",
       "</table>\n",
       "<p>10547 rows × 4 columns</p>\n",
       "</div>"
      ],
      "text/plain": [
       "                                      title  \\\n",
       "0                     Traditional Osso Buco   \n",
       "1      Italian Sausage Soup with Tortellini   \n",
       "2      Italian Sausage, Peppers, and Onions   \n",
       "3              Tender Italian Baked Chicken   \n",
       "4                        Easy Pizza Sauce I   \n",
       "...                                     ...   \n",
       "10806                   Vegetarian Pad Thai   \n",
       "10807    Quick and Easy Thai Style Coleslaw   \n",
       "10808                    Sukhothai Pad Thai   \n",
       "10809                Slow Cook Thai Chicken   \n",
       "10810                Thai Barbeque Marinade   \n",
       "\n",
       "                                             ingredients  \\\n",
       "0      2 pounds veal shanks, cut into short lengths ,...   \n",
       "1      1 pound sweet Italian sausage, casings removed...   \n",
       "2      6 (4 ounce) links sweet Italian sausage ,2 tab...   \n",
       "3      ¾ cup mayonnaise ,½ cup grated Parmesan cheese...   \n",
       "4      1 (6 ounce) can tomato paste ,1 ½ cups water ,...   \n",
       "...                                                  ...   \n",
       "10806  1 (6.75 ounce) package thin rice noodles ,2 ta...   \n",
       "10807  1 (16 ounce) package shredded coleslaw mix ,¼ ...   \n",
       "10808  ½ cup white sugar ,½ cup distilled white vineg...   \n",
       "10809  6 skinless, boneless chicken breast halves - c...   \n",
       "10810  3 tablespoons fish sauce ,2 tablespoons rice w...   \n",
       "\n",
       "                                                  recipe  \\\n",
       "0      Dust the veal shanks lightly with flour. Melt ...   \n",
       "1      In a 5-quart Dutch oven, brown sausage. Remove...   \n",
       "2      Place the sausage in a large skillet over medi...   \n",
       "3      Preheat oven to 425 degrees F (220 degrees C)....   \n",
       "4      Mix together the tomato paste, water, and oliv...   \n",
       "...                                                  ...   \n",
       "10806  Place noodles in a heatproof bowl and cover wi...   \n",
       "10807  Pour the coleslaw mix into a large bowl. Pour ...   \n",
       "10808  To prepare Pad Thai sauce: In a medium saucepa...   \n",
       "10809  Place the chicken breast strips, bell pepper a...   \n",
       "10810  Whisk together the fish sauce, rice wine, sesa...   \n",
       "\n",
       "                     category  \n",
       "0                 Main Dishes  \n",
       "1      Vegetable Soup Recipes  \n",
       "2                     Sausage  \n",
       "3                     Italian  \n",
       "4         Pizza Sauce Recipes  \n",
       "...                       ...  \n",
       "10806                    Thai  \n",
       "10807                 No Mayo  \n",
       "10808                    Thai  \n",
       "10809                    Thai  \n",
       "10810        Marinade Recipes  \n",
       "\n",
       "[10547 rows x 4 columns]"
      ]
     },
     "execution_count": 11,
     "metadata": {},
     "output_type": "execute_result"
    }
   ],
   "source": [
    "recipes.dropna(inplace=True)\n",
    "recipes"
   ]
  },
  {
   "cell_type": "code",
   "execution_count": 12,
   "id": "cd672873",
   "metadata": {},
   "outputs": [
    {
     "data": {
      "text/plain": [
       "title                                               Tahini Salad\n",
       "ingredients    2 pickle-size Persian cucumbers, diced ,1 larg...\n",
       "recipe         Combine the cucumber, tomato, and radish in a ...\n",
       "category                                  Cucumber Salad Recipes\n",
       "Name: 77, dtype: object"
      ]
     },
     "execution_count": 12,
     "metadata": {},
     "output_type": "execute_result"
    }
   ],
   "source": [
    "recipes.iloc[76\n",
    "            ]"
   ]
  },
  {
   "cell_type": "code",
   "execution_count": 13,
   "id": "dd7a5d79",
   "metadata": {},
   "outputs": [],
   "source": [
    "title_marker='Æ Title: \\n'\n",
    "ingredients_marker='Ingredients: \\n'\n",
    "instructions_marker='Instructions: \\n'\n",
    "\n",
    "def df_to_string(recipe):\n",
    "    title=recipe['title'] + '\\n\\n'\n",
    "    ingredients=recipe['ingredients']\n",
    "    instructions=recipe['recipe']\n",
    "    instructions=instructions.replace('\\n', '')\n",
    "    \n",
    "    #seperate the ingredients by comma\n",
    "    ingredients=ingredients.split(',')\n",
    "    instructions=instructions.split('.')\n",
    "    \n",
    "    #add the title marker and the title of the recipe to the return string\n",
    "    return_string=title_marker + title +ingredients_marker\n",
    "    \n",
    "    for ingredient in ingredients:\n",
    "        return_string += f'▪︎ {ingredient}\\n'\n",
    "        \n",
    "    return_string+='\\n\\n'+instructions_marker\n",
    "    \n",
    "    for instruction in instructions:\n",
    "        return_string+=f'▪︎ {instruction}.\\n'\n",
    "    return return_string\n",
    "        \n",
    "        \n",
    "    "
   ]
  },
  {
   "cell_type": "code",
   "execution_count": 14,
   "id": "90a820e0",
   "metadata": {},
   "outputs": [],
   "source": [
    "recipes_string=''\n",
    "for i in range(recipes['title'].size):\n",
    "    recipes_string+=(df_to_string(recipes.iloc[i]))\n",
    "\n"
   ]
  },
  {
   "cell_type": "code",
   "execution_count": 24,
   "id": "d305200f",
   "metadata": {},
   "outputs": [
    {
     "name": "stdout",
     "output_type": "stream",
     "text": [
      "12132467\n"
     ]
    }
   ],
   "source": [
    "print(len(recipes_string))"
   ]
  },
  {
   "cell_type": "code",
   "execution_count": 31,
   "id": "1a68afed",
   "metadata": {},
   "outputs": [],
   "source": [
    "def split(recipes_string, max_len, step_size = 1):\n",
    "\n",
    "    lines = []\n",
    "    next_chars = []\n",
    "\n",
    "    for i in range(0, len(recipes_string) - max_len, step_size):\n",
    "        lines.append(recipes_string[i:i+max_len])\n",
    "        next_chars.append(recipes_string[i+max_len])\n",
    "    \n",
    "    return lines, next_chars"
   ]
  },
  {
   "cell_type": "code",
   "execution_count": 32,
   "id": "790957a8",
   "metadata": {
    "scrolled": true
   },
   "outputs": [
    {
     "name": "stdout",
     "output_type": "stream",
     "text": [
      "2 pounds veal shanks     =>    \n",
      "\n",
      "nds veal shanks\n",
      "▪︎       =>    c\n",
      "eal shanks\n",
      "▪︎  cut i     =>    n\n",
      "hanks\n",
      "▪︎  cut into s     =>    h\n",
      "\n",
      "▪︎  cut into short      =>    l\n"
     ]
    }
   ],
   "source": [
    "max_len = 20\n",
    "\n",
    "lines, next_chars =  split(recipes_string, max_len = max_len, step_size = 5)\n",
    "for i in range(10, 15):\n",
    "    print(lines[i] + \"     =>    \" + next_chars[i])"
   ]
  },
  {
   "cell_type": "code",
   "execution_count": 34,
   "id": "1c5468f4",
   "metadata": {},
   "outputs": [],
   "source": [
    "chars = sorted(set(recipes_string))\n",
    "char_indices = {char : chars.index(char) for char in chars}\n",
    "X = np.zeros((len(lines), max_len, len(chars)))\n",
    "y = np.zeros((len(lines), 1), dtype = np.int32)\n",
    "for i, line in enumerate(lines):\n",
    "\tfor t, char in enumerate(line):\n",
    "\t\tX[i, t, char_indices[char]] = 1\n",
    "\ty[i] = char_indices[next_chars[i]]"
   ]
  },
  {
   "cell_type": "code",
   "execution_count": 35,
   "id": "d035d789",
   "metadata": {},
   "outputs": [
    {
     "data": {
      "text/plain": [
       "((2426490, 20, 110), (2426490, 1))"
      ]
     },
     "execution_count": 35,
     "metadata": {},
     "output_type": "execute_result"
    }
   ],
   "source": [
    "X.shape, y.shape"
   ]
  },
  {
   "cell_type": "code",
   "execution_count": 36,
   "id": "e7b7fae1",
   "metadata": {},
   "outputs": [
    {
     "data": {
      "text/plain": [
       "array([[0., 0., 0., ..., 0., 0., 0.],\n",
       "       [0., 1., 0., ..., 0., 0., 0.],\n",
       "       [0., 0., 0., ..., 0., 0., 0.],\n",
       "       ...,\n",
       "       [0., 0., 0., ..., 0., 0., 0.],\n",
       "       [0., 0., 0., ..., 0., 0., 0.],\n",
       "       [0., 0., 0., ..., 0., 0., 0.]])"
      ]
     },
     "execution_count": 36,
     "metadata": {},
     "output_type": "execute_result"
    }
   ],
   "source": [
    "X[0]"
   ]
  },
  {
   "cell_type": "code",
   "execution_count": 37,
   "id": "f22cc059",
   "metadata": {},
   "outputs": [],
   "source": [
    "train_len = int(0.7*X.shape[0])\n",
    "X_train = X[0:train_len]\n",
    "X_val = X[train_len:]\n",
    "\n",
    "y_train = y[0:train_len]\n",
    "y_val  = y[train_len:]"
   ]
  },
  {
   "cell_type": "code",
   "execution_count": 40,
   "id": "a193a929",
   "metadata": {},
   "outputs": [],
   "source": [
    "model = tf.keras.models.Sequential([\n",
    "    layers.LSTM(128, name = \"LSTM\", input_shape=(max_len, len(chars))),\n",
    "    layers.Dense(len(chars))        \n",
    "])"
   ]
  },
  {
   "cell_type": "code",
   "execution_count": null,
   "id": "e437d8f4",
   "metadata": {},
   "outputs": [],
   "source": [
    "model.compile(loss = tf.keras.losses.SparseCategoricalCrossentropy(from_logits = True), \n",
    "              optimizer = \"adam\")"
   ]
  },
  {
   "cell_type": "code",
   "execution_count": null,
   "id": "0cf799d7",
   "metadata": {},
   "outputs": [],
   "source": [
    "model.fit(X_train, \n",
    "          y_train,\n",
    "          validation_data= (X_val, y_val),\n",
    "          batch_size=128, epochs = 1)"
   ]
  }
 ],
 "metadata": {
  "kernelspec": {
   "display_name": "Python 3",
   "language": "python",
   "name": "python3"
  },
  "language_info": {
   "codemirror_mode": {
    "name": "ipython",
    "version": 3
   },
   "file_extension": ".py",
   "mimetype": "text/x-python",
   "name": "python",
   "nbconvert_exporter": "python",
   "pygments_lexer": "ipython3",
   "version": "3.8.8"
  }
 },
 "nbformat": 4,
 "nbformat_minor": 5
}
